{
 "cells": [
  {
   "cell_type": "markdown",
   "metadata": {},
   "source": [
    "## 准备数据"
   ]
  },
  {
   "cell_type": "code",
   "execution_count": 1,
   "metadata": {},
   "outputs": [],
   "source": [
    "import os\n",
    "import numpy as np\n",
    "import tensorflow as tf\n",
    "from tensorflow import keras\n",
    "from tensorflow.keras import layers, optimizers, datasets\n",
    "\n",
    "os.environ['TF_CPP_MIN_LOG_LEVEL'] = '2'  # or any {'0', '1', '2'}\n",
    "\n",
    "def mnist_dataset():\n",
    "    (x, y), (x_test, y_test) = datasets.mnist.load_data()\n",
    "    #normalize\n",
    "    x = x/255.0\n",
    "    x_test = x_test/255.0\n",
    "    \n",
    "    return (x, y), (x_test, y_test)"
   ]
  },
  {
   "cell_type": "code",
   "execution_count": 2,
   "metadata": {},
   "outputs": [
    {
     "name": "stdout",
     "output_type": "stream",
     "text": [
      "[(1, 'a'), (2, 'b'), (3, 'c'), (4, 'd')]\n"
     ]
    }
   ],
   "source": [
    "print(list(zip([1, 2, 3, 4], ['a', 'b', 'c', 'd'])))"
   ]
  },
  {
   "cell_type": "markdown",
   "metadata": {},
   "source": [
    "## 建立模型"
   ]
  },
  {
   "cell_type": "code",
   "execution_count": 11,
   "metadata": {},
   "outputs": [],
   "source": [
    "class myModel:\n",
    "    def __init__(self):\n",
    "        ####################\n",
    "        '''声明模型对应的参数'''\n",
    "        self.W1=tf.Variable(shape=[28*28, 100],\n",
    "                            dtype=tf.float32,\n",
    "                            initial_value=tf.random.uniform(shape=[28*28, 100],minval=-0.1,maxval=0.1))\n",
    "        self.b1=tf.Variable(shape=[100],dtype=tf.float32,initial_value=tf.zeros(100))\n",
    "        self.W2=tf.Variable(shape=[100, 20],\n",
    "                            dtype=tf.float32,\n",
    "                            initial_value=tf.random.uniform(shape=[100, 20],minval=-0.1,maxval=0.1))\n",
    "        self.b2=tf.Variable(shape=[20],dtype=tf.float32,initial_value=tf.zeros(20))\n",
    "        self.train_variables = [self.W1, self.W2, self.b1, self.b2]\n",
    "        ####################\n",
    "    def __call__(self, x):\n",
    "        ####################\n",
    "        '''实现模型函数体，返回未归一化的logits'''\n",
    "        flat_x = tf.reshape(x, shape=[-1, 28*28])\n",
    "        h1 = tf.tanh(tf.matmul(flat_x, self.W1) + self.b1)\n",
    "        logits = tf.matmul(h1, self.W2) + self.b2\n",
    "        ####################\n",
    "        return logits\n",
    "        \n",
    "model = myModel()\n",
    "\n",
    "optimizer = optimizers.Adam()"
   ]
  },
  {
   "cell_type": "markdown",
   "metadata": {},
   "source": [
    "## 计算 loss"
   ]
  },
  {
   "cell_type": "code",
   "execution_count": 12,
   "metadata": {},
   "outputs": [],
   "source": [
    "@tf.function\n",
    "def compute_loss(logits, labels):\n",
    "    return tf.reduce_mean(\n",
    "        tf.nn.sparse_softmax_cross_entropy_with_logits(\n",
    "            logits=logits, labels=labels))\n",
    "\n",
    "@tf.function\n",
    "def compute_accuracy(logits, labels):\n",
    "    predictions = tf.argmax(logits, axis=1)\n",
    "    return tf.reduce_mean(tf.cast(tf.equal(predictions, labels), tf.float32))\n",
    "\n",
    "@tf.function\n",
    "def train_one_step(model, optimizer, x, y):\n",
    "    with tf.GradientTape() as tape:\n",
    "        logits = model(x)\n",
    "        loss = compute_loss(logits, y)\n",
    "\n",
    "    # compute gradient\n",
    "    trainable_vars = [model.W1, model.W2, model.b1, model.b2]\n",
    "    grads = tape.gradient(loss, trainable_vars)\n",
    "    for g, v in zip(grads, trainable_vars):\n",
    "        v.assign_sub(0.01*g)\n",
    "\n",
    "    accuracy = compute_accuracy(logits, y)\n",
    "\n",
    "    # loss and accuracy is scalar tensor\n",
    "    return loss, accuracy\n",
    "\n",
    "@tf.function\n",
    "def test(model, x, y):\n",
    "    logits = model(x)\n",
    "    loss = compute_loss(logits, y)\n",
    "    accuracy = compute_accuracy(logits, y)\n",
    "    return loss, accuracy"
   ]
  },
  {
   "cell_type": "markdown",
   "metadata": {},
   "source": [
    "## 实际训练"
   ]
  },
  {
   "cell_type": "code",
   "execution_count": 13,
   "metadata": {},
   "outputs": [
    {
     "name": "stdout",
     "output_type": "stream",
     "text": [
      "epoch 0 : loss 3.0105784 ; accuracy 0.07428333\n",
      "epoch 1 : loss 2.9981136 ; accuracy 0.08293334\n",
      "epoch 2 : loss 2.9858 ; accuracy 0.09076667\n",
      "epoch 3 : loss 2.973633 ; accuracy 0.09893333\n",
      "epoch 4 : loss 2.9616084 ; accuracy 0.10763333\n",
      "epoch 5 : loss 2.9497223 ; accuracy 0.11593334\n",
      "epoch 6 : loss 2.937971 ; accuracy 0.124283336\n",
      "epoch 7 : loss 2.9263508 ; accuracy 0.13148333\n",
      "epoch 8 : loss 2.9148588 ; accuracy 0.13873333\n",
      "epoch 9 : loss 2.9034913 ; accuracy 0.14678334\n",
      "epoch 10 : loss 2.8922448 ; accuracy 0.15471667\n",
      "epoch 11 : loss 2.8811169 ; accuracy 0.16288333\n",
      "epoch 12 : loss 2.8701048 ; accuracy 0.17075\n",
      "epoch 13 : loss 2.8592052 ; accuracy 0.17876667\n",
      "epoch 14 : loss 2.848416 ; accuracy 0.18578333\n",
      "epoch 15 : loss 2.837735 ; accuracy 0.1936\n",
      "epoch 16 : loss 2.827159 ; accuracy 0.20091666\n",
      "epoch 17 : loss 2.816686 ; accuracy 0.20758334\n",
      "epoch 18 : loss 2.806314 ; accuracy 0.2147\n",
      "epoch 19 : loss 2.7960413 ; accuracy 0.22196667\n",
      "epoch 20 : loss 2.785865 ; accuracy 0.22841667\n",
      "epoch 21 : loss 2.7757838 ; accuracy 0.23528333\n",
      "epoch 22 : loss 2.7657952 ; accuracy 0.24166666\n",
      "epoch 23 : loss 2.7558982 ; accuracy 0.24733333\n",
      "epoch 24 : loss 2.7460907 ; accuracy 0.25338334\n",
      "epoch 25 : loss 2.736371 ; accuracy 0.25951666\n",
      "epoch 26 : loss 2.7267377 ; accuracy 0.26561666\n",
      "epoch 27 : loss 2.7171893 ; accuracy 0.2716\n",
      "epoch 28 : loss 2.7077239 ; accuracy 0.27723333\n",
      "epoch 29 : loss 2.6983407 ; accuracy 0.28246668\n",
      "epoch 30 : loss 2.6890376 ; accuracy 0.28725\n",
      "epoch 31 : loss 2.6798136 ; accuracy 0.29288334\n",
      "epoch 32 : loss 2.6706676 ; accuracy 0.29806668\n",
      "epoch 33 : loss 2.6615984 ; accuracy 0.30288333\n",
      "epoch 34 : loss 2.6526043 ; accuracy 0.30763334\n",
      "epoch 35 : loss 2.6436849 ; accuracy 0.31246668\n",
      "epoch 36 : loss 2.6348383 ; accuracy 0.31721666\n",
      "epoch 37 : loss 2.6260636 ; accuracy 0.32165\n",
      "epoch 38 : loss 2.6173599 ; accuracy 0.32576665\n",
      "epoch 39 : loss 2.6087258 ; accuracy 0.3306\n",
      "epoch 40 : loss 2.6001608 ; accuracy 0.33475\n",
      "epoch 41 : loss 2.5916638 ; accuracy 0.33895\n",
      "epoch 42 : loss 2.5832334 ; accuracy 0.34288332\n",
      "epoch 43 : loss 2.574869 ; accuracy 0.34665\n",
      "epoch 44 : loss 2.5665698 ; accuracy 0.35043332\n",
      "epoch 45 : loss 2.5583344 ; accuracy 0.35411668\n",
      "epoch 46 : loss 2.5501623 ; accuracy 0.35725\n",
      "epoch 47 : loss 2.5420525 ; accuracy 0.36068332\n",
      "epoch 48 : loss 2.5340044 ; accuracy 0.36325\n",
      "epoch 49 : loss 2.5260167 ; accuracy 0.36655\n",
      "test loss 2.5112035 ; accuracy 0.371\n"
     ]
    }
   ],
   "source": [
    "train_data, test_data = mnist_dataset()\n",
    "for epoch in range(50):\n",
    "    loss, accuracy = train_one_step(model, optimizer, \n",
    "                                    tf.constant(train_data[0], dtype=tf.float32), \n",
    "                                    tf.constant(train_data[1], dtype=tf.int64))\n",
    "    print('epoch', epoch, ': loss', loss.numpy(), '; accuracy', accuracy.numpy())\n",
    "loss, accuracy = test(model, \n",
    "                      tf.constant(test_data[0], dtype=tf.float32), \n",
    "                      tf.constant(test_data[1], dtype=tf.int64))\n",
    "\n",
    "print('test loss', loss.numpy(), '; accuracy', accuracy.numpy())"
   ]
  },
  {
   "cell_type": "code",
   "execution_count": null,
   "metadata": {},
   "outputs": [],
   "source": []
  }
 ],
 "metadata": {
  "kernelspec": {
   "display_name": "Python [conda env:trytensorflow]",
   "language": "python",
   "name": "conda-env-trytensorflow-py"
  },
  "language_info": {
   "codemirror_mode": {
    "name": "ipython",
    "version": 3
   },
   "file_extension": ".py",
   "mimetype": "text/x-python",
   "name": "python",
   "nbconvert_exporter": "python",
   "pygments_lexer": "ipython3",
   "version": "3.7.1"
  }
 },
 "nbformat": 4,
 "nbformat_minor": 2
}
